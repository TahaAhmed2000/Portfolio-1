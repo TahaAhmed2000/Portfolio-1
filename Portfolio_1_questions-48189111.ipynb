{
 "cells": [
  {
   "cell_type": "markdown",
   "id": "skHfgkqlqndO",
   "metadata": {
    "id": "skHfgkqlqndO"
   },
   "source": [
    "<h1>DONE BY: TAHA AHMED SIDDIQUI\n",
    "48189111</h1>\n",
    "\n",
    "### Analysis of an E-commerce Dataset\n",
    "\n",
    "We have been provided with a combined e-commerce dataset. In this dataset, each user has the ability to post a rating and review for the products they purchased. Additionally, other users can evaluate the initial rating and review by expressing their trust or distrust.\n",
    "\n",
    "This dataset includes a wealth of information for each user. Details such as their profile, ID, gender, city of birth, product ratings (on a scale of 1-5), reviews, and the prices of the products they purchased are all included. Moreover, for each product rating, we have information about the product name, ID, price, and category, the rating score, the timestamp of the rating and review, and the average helpfulness of the rating given by others (on a scale of 1-5).\n",
    "\n",
    "The dataset is from several data sources, and we have merged all the data into a single CSV file named 'A Combined E-commerce Dataset.csv'. The structure of this dataset is represented in the header shown below.\n",
    "\n",
    "| userId | gender | rating | review| item | category | helpfulness | timestamp | item_id | item_price | user_city|\n",
    "\n",
    "    | ---- | ---- | ---- | ---- | ---- | ---- | ---- | ---- | ---- |  ---- |  ---- |  \n",
    "    \n",
    "#### Description of Fields\n",
    "\n",
    "* __userId__ - the user's id\n",
    "* __gender__ - the user's gender\n",
    "* __rating__ - the user's rating towards the item\n",
    "* __review__ - the user's review towards the item\n",
    "* __item__ - the item's name\n",
    "* __category__ - the category of the item\n",
    "* __helpfulness__ - the average helpfulness of this rating\n",
    "* __timestamp__ - the timestamp when the rating is created\n",
    "* __item_id__ - the item's id\n",
    "* __item_price__ - the item's price\n",
    "* __user_city__ - the city of user's birth\n",
    "\n",
    "Note that, a user may rate multiple items and an item may receive ratings and reviews from multiple users. The \"helpfulness\" is an average value based on all the helpfulness values given by others.\n",
    "\n",
    "There are four questions to explore with the data as shown below.\n",
    "\n",
    "\n",
    "\n",
    "<img src=\"data-relation.png\" align=\"left\" width=\"400\"/>\n",
    "(You can find the data relation diagram on iLearn - Portfolio Part 1 resources - Fig1)\n"
   ]
  },
  {
   "cell_type": "markdown",
   "id": "-tb7B7VTqndQ",
   "metadata": {
    "id": "-tb7B7VTqndQ"
   },
   "source": [
    " #### Q1. Remove missing data\n",
    "\n",
    "Please remove the following records in the csv file:\n",
    "\n",
    " * gender/rating/helpfulness is missing\n",
    " * review is 'none'\n",
    "\n",
    "__Display the DataFrame, counting number of Null values in each column, and print the length of the data__ before and after removing the missing data.  "
   ]
  },
  {
   "cell_type": "code",
   "execution_count": 1,
   "id": "1ecn6H9VqndQ",
   "metadata": {
    "id": "1ecn6H9VqndQ"
   },
   "outputs": [],
   "source": [
    "# your code and solutions\n",
    "import pandas as pd\n",
    "import matplotlib.pyplot as plt\n",
    "%matplotlib inline\n"
   ]
  },
  {
   "cell_type": "code",
   "execution_count": null,
   "id": "347c7074",
   "metadata": {},
   "outputs": [],
   "source": [
    "# PortFolio done By: \n",
    "#     Taha Ahmed Siddiqui\n",
    "#     48189111"
   ]
  },
  {
   "cell_type": "code",
   "execution_count": 3,
   "id": "90764c1b",
   "metadata": {},
   "outputs": [],
   "source": [
    "ds=\"C:/Users/BEYOND/Downloads/The E-commerce Dataset.csv\"\n",
    "df=pd.read_csv(ds)"
   ]
  },
  {
   "cell_type": "code",
   "execution_count": 4,
   "id": "c2a445d6",
   "metadata": {},
   "outputs": [
    {
     "name": "stdout",
     "output_type": "stream",
     "text": [
      "<class 'pandas.core.frame.DataFrame'>\n",
      "RangeIndex: 20000 entries, 0 to 19999\n",
      "Data columns (total 11 columns):\n",
      " #   Column       Non-Null Count  Dtype  \n",
      "---  ------       --------------  -----  \n",
      " 0   userId       20000 non-null  int64  \n",
      " 1   timestamp    20000 non-null  int64  \n",
      " 2   review       20000 non-null  object \n",
      " 3   item         20000 non-null  object \n",
      " 4   rating       19983 non-null  float64\n",
      " 5   helpfulness  19978 non-null  float64\n",
      " 6   gender       19973 non-null  object \n",
      " 7   category     20000 non-null  object \n",
      " 8   item_id      20000 non-null  int64  \n",
      " 9   item_price   20000 non-null  float64\n",
      " 10  user_city    20000 non-null  int64  \n",
      "dtypes: float64(3), int64(4), object(4)\n",
      "memory usage: 1.7+ MB\n"
     ]
    },
    {
     "data": {
      "text/plain": [
       "userId          0\n",
       "timestamp       0\n",
       "review          0\n",
       "item            0\n",
       "rating         17\n",
       "helpfulness    22\n",
       "gender         27\n",
       "category        0\n",
       "item_id         0\n",
       "item_price      0\n",
       "user_city       0\n",
       "dtype: int64"
      ]
     },
     "execution_count": 4,
     "metadata": {},
     "output_type": "execute_result"
    }
   ],
   "source": [
    "df.info()\n",
    "df.isnull().sum()"
   ]
  },
  {
   "cell_type": "code",
   "execution_count": 5,
   "id": "f6327cb9",
   "metadata": {},
   "outputs": [
    {
     "data": {
      "text/html": [
       "<div>\n",
       "<style scoped>\n",
       "    .dataframe tbody tr th:only-of-type {\n",
       "        vertical-align: middle;\n",
       "    }\n",
       "\n",
       "    .dataframe tbody tr th {\n",
       "        vertical-align: top;\n",
       "    }\n",
       "\n",
       "    .dataframe thead th {\n",
       "        text-align: right;\n",
       "    }\n",
       "</style>\n",
       "<table border=\"1\" class=\"dataframe\">\n",
       "  <thead>\n",
       "    <tr style=\"text-align: right;\">\n",
       "      <th></th>\n",
       "      <th>userId</th>\n",
       "      <th>timestamp</th>\n",
       "      <th>review</th>\n",
       "      <th>item</th>\n",
       "      <th>rating</th>\n",
       "      <th>helpfulness</th>\n",
       "      <th>gender</th>\n",
       "      <th>category</th>\n",
       "      <th>item_id</th>\n",
       "      <th>item_price</th>\n",
       "      <th>user_city</th>\n",
       "    </tr>\n",
       "  </thead>\n",
       "  <tbody>\n",
       "    <tr>\n",
       "      <th>0</th>\n",
       "      <td>4051</td>\n",
       "      <td>12807</td>\n",
       "      <td>Great job for what it is!</td>\n",
       "      <td>eBay</td>\n",
       "      <td>5.0</td>\n",
       "      <td>2.0</td>\n",
       "      <td>F</td>\n",
       "      <td>Online Stores &amp; Services</td>\n",
       "      <td>88</td>\n",
       "      <td>149.00</td>\n",
       "      <td>39</td>\n",
       "    </tr>\n",
       "    <tr>\n",
       "      <th>1</th>\n",
       "      <td>4052</td>\n",
       "      <td>122899</td>\n",
       "      <td>Free Access Worth your Time</td>\n",
       "      <td>NetZero</td>\n",
       "      <td>5.0</td>\n",
       "      <td>0.0</td>\n",
       "      <td>F</td>\n",
       "      <td>Online Stores &amp; Services</td>\n",
       "      <td>46</td>\n",
       "      <td>53.00</td>\n",
       "      <td>39</td>\n",
       "    </tr>\n",
       "    <tr>\n",
       "      <th>2</th>\n",
       "      <td>33</td>\n",
       "      <td>12700</td>\n",
       "      <td>AOL..I love you!!!!!!!!!!!!</td>\n",
       "      <td>AOL (America Online)</td>\n",
       "      <td>5.0</td>\n",
       "      <td>4.0</td>\n",
       "      <td>F</td>\n",
       "      <td>Online Stores &amp; Services</td>\n",
       "      <td>0</td>\n",
       "      <td>145.84</td>\n",
       "      <td>31</td>\n",
       "    </tr>\n",
       "    <tr>\n",
       "      <th>3</th>\n",
       "      <td>33</td>\n",
       "      <td>21000</td>\n",
       "      <td>EBAY!!!  I LOVE YOU!!!! :-)*</td>\n",
       "      <td>eBay</td>\n",
       "      <td>5.0</td>\n",
       "      <td>4.0</td>\n",
       "      <td>F</td>\n",
       "      <td>Online Stores &amp; Services</td>\n",
       "      <td>88</td>\n",
       "      <td>149.00</td>\n",
       "      <td>31</td>\n",
       "    </tr>\n",
       "    <tr>\n",
       "      <th>4</th>\n",
       "      <td>33</td>\n",
       "      <td>22300</td>\n",
       "      <td>Blair Witch...Oh Come On.......</td>\n",
       "      <td>Blair Witch Project</td>\n",
       "      <td>1.0</td>\n",
       "      <td>4.0</td>\n",
       "      <td>F</td>\n",
       "      <td>Movies</td>\n",
       "      <td>12</td>\n",
       "      <td>44.00</td>\n",
       "      <td>31</td>\n",
       "    </tr>\n",
       "  </tbody>\n",
       "</table>\n",
       "</div>"
      ],
      "text/plain": [
       "   userId  timestamp                           review                  item  \\\n",
       "0    4051      12807        Great job for what it is!                  eBay   \n",
       "1    4052     122899      Free Access Worth your Time               NetZero   \n",
       "2      33      12700    AOL..I love you!!!!!!!!!!!!    AOL (America Online)   \n",
       "3      33      21000     EBAY!!!  I LOVE YOU!!!! :-)*                  eBay   \n",
       "4      33      22300  Blair Witch...Oh Come On.......   Blair Witch Project   \n",
       "\n",
       "   rating  helpfulness gender                  category  item_id  item_price  \\\n",
       "0     5.0          2.0      F  Online Stores & Services       88      149.00   \n",
       "1     5.0          0.0      F  Online Stores & Services       46       53.00   \n",
       "2     5.0          4.0      F  Online Stores & Services        0      145.84   \n",
       "3     5.0          4.0      F  Online Stores & Services       88      149.00   \n",
       "4     1.0          4.0      F                    Movies       12       44.00   \n",
       "\n",
       "   user_city  \n",
       "0         39  \n",
       "1         39  \n",
       "2         31  \n",
       "3         31  \n",
       "4         31  "
      ]
     },
     "execution_count": 5,
     "metadata": {},
     "output_type": "execute_result"
    }
   ],
   "source": [
    "df.head()"
   ]
  },
  {
   "cell_type": "code",
   "execution_count": 6,
   "id": "38cec45f",
   "metadata": {},
   "outputs": [
    {
     "name": "stdout",
     "output_type": "stream",
     "text": [
      "The length prior to the removal of missing data is:  20000\n"
     ]
    }
   ],
   "source": [
    "print(\"The length prior to the removal of missing data is: \",len(df))"
   ]
  },
  {
   "cell_type": "code",
   "execution_count": 7,
   "id": "59b509d4",
   "metadata": {},
   "outputs": [
    {
     "name": "stdout",
     "output_type": "stream",
     "text": [
      "The length after the removal of none data is:  19982\n",
      "The length after the removal of missing data is:  19916\n"
     ]
    }
   ],
   "source": [
    "# 1st Method\n",
    "clean_df_occ=df.drop(df.index[(df['review']== 'none')])\n",
    "print(\"The length after the removal of none data is: \", len(clean_df_occ))\n",
    "clean_df=clean_df_occ.dropna()\n",
    "print(\"The length after the removal of missing data is: \",len(clean_df))"
   ]
  },
  {
   "cell_type": "code",
   "execution_count": 8,
   "id": "df9f775e",
   "metadata": {},
   "outputs": [
    {
     "name": "stdout",
     "output_type": "stream",
     "text": [
      "18\n",
      "The length after the removal of none data is:  19982\n",
      "The length after the removal of missing data is:  19916\n"
     ]
    }
   ],
   "source": [
    "# 2nd Method\n",
    "clean_df_occ =df\n",
    "count=0\n",
    "for index,row in df.iterrows():\n",
    "    if row['review'] == 'none':\n",
    "        clean_df_occ=clean_df_occ.drop([index])\n",
    "        count+=1\n",
    "\n",
    "print(count)\n",
    "clean_df=clean_df_occ.dropna()\n",
    "print(\"The length after the removal of none data is: \", len(clean_df_occ))\n",
    "print(\"The length after the removal of missing data is: \",len(clean_df))"
   ]
  },
  {
   "cell_type": "markdown",
   "id": "EJG9_LEmqndR",
   "metadata": {
    "id": "EJG9_LEmqndR"
   },
   "source": [
    "#### Q2. Descriptive statistics\n",
    "\n",
    "With the cleaned data in Q1, please provide the data summarization as below:\n",
    "\n",
    "* Q2.1 total number of unique users, unique reviews, unique items, and unique categories\n",
    "* Q2.2 descriptive statistics, e.g., the total number, mean, std, min and max regarding all rating records\n",
    "* Q2.3 descriptive statistics, e.g., mean, std, max, and min of the number of items rated by different genders\n",
    "* Q2.4 descriptive statistics, e.g., mean, std, max, min of the number of ratings that received by each items\n"
   ]
  },
  {
   "cell_type": "code",
   "execution_count": 10,
   "id": "-fiucmwsqndR",
   "metadata": {
    "id": "-fiucmwsqndR"
   },
   "outputs": [
    {
     "name": "stdout",
     "output_type": "stream",
     "text": [
      "the number of unique review is:  19524\n",
      "\n",
      "the number of unique item is:  89\n",
      "\n",
      "the number of unique category is:  9\n",
      "\n",
      "the number of unique user is:  8580\n"
     ]
    }
   ],
   "source": [
    "# your code and solutions\n",
    "occ_array=df['review'].unique()\n",
    "print('the number of unique review is: ',occ_array.size)\n",
    "\n",
    "movie_array=df['item'].unique()\n",
    "print('\\nthe number of unique item is: ',movie_array.size)\n",
    "\n",
    "\n",
    "genre_array=df['category'].unique()\n",
    "print('\\nthe number of unique category is: ',genre_array.size)\n",
    "\n",
    "\n",
    "user_array=df['userId'].unique()\n",
    "print('\\nthe number of unique user is: ',user_array.size)\n",
    "\n"
   ]
  },
  {
   "cell_type": "code",
   "execution_count": 11,
   "id": "5f2d6fca",
   "metadata": {},
   "outputs": [
    {
     "data": {
      "text/plain": [
       "count    19983.000000\n",
       "mean         3.701847\n",
       "std          1.404619\n",
       "min          1.000000\n",
       "25%          3.000000\n",
       "50%          4.000000\n",
       "75%          5.000000\n",
       "max          5.000000\n",
       "Name: rating, dtype: float64"
      ]
     },
     "execution_count": 11,
     "metadata": {},
     "output_type": "execute_result"
    }
   ],
   "source": [
    "df['rating'].describe()"
   ]
  },
  {
   "cell_type": "code",
   "execution_count": 35,
   "id": "a7020e4d",
   "metadata": {},
   "outputs": [
    {
     "name": "stdout",
     "output_type": "stream",
     "text": [
      "Descriptive Statistics for the Number of Items Rated by Different Genders:\n",
      "              count\n",
      "count      2.000000\n",
      "mean    9986.500000\n",
      "std      236.880772\n",
      "min     9819.000000\n",
      "25%     9902.750000\n",
      "50%     9986.500000\n",
      "75%    10070.250000\n",
      "max    10154.000000\n"
     ]
    }
   ],
   "source": [
    "# For Q2.3 (descriptive statistics of the number of items rated by different genders):\n",
    "grouped_gender_df=df.groupby(['gender'])['item'].count().reset_index(name='count')\n",
    "print(\"Descriptive Statistics for the Number of Items Rated by Different Genders:\")\n",
    "print(grouped_gender_df.describe())"
   ]
  },
  {
   "cell_type": "code",
   "execution_count": 36,
   "id": "0ba3d6f9",
   "metadata": {},
   "outputs": [
    {
     "name": "stdout",
     "output_type": "stream",
     "text": [
      "Descriptive Statistics for the Number of Ratings Received by Each Item:\n",
      "            count\n",
      "count   89.000000\n",
      "mean   224.528090\n",
      "std    116.841393\n",
      "min    140.000000\n",
      "25%    162.000000\n",
      "50%    187.000000\n",
      "75%    245.000000\n",
      "max    944.000000\n"
     ]
    }
   ],
   "source": [
    "# For Q2.4 (descriptive statistics of the number of ratings received by each item):\n",
    "grouped_item_df=df.groupby(['item'])['rating'].count().reset_index(name='count')\n",
    "print(\"Descriptive Statistics for the Number of Ratings Received by Each Item:\")\n",
    "print(grouped_item_df.describe())\n"
   ]
  },
  {
   "cell_type": "markdown",
   "id": "PISggxe5qndR",
   "metadata": {
    "id": "PISggxe5qndR"
   },
   "source": [
    "#### Q3. Plotting and Analysis\n",
    "\n",
    "Please try to explore the correlation between gender/helpfulness/category and ratings; for instance, do female/male users tend to provide higher ratings than male/female users? Hint: you may use the boxplot function to plot figures for comparison (___Challenge___)\n",
    "    \n",
    "You may need to select the most suitable graphic forms for ease of presentation. Most importantly, for each figure or subfigure, please summarise ___what each plot shows___ (i.e. observations and explanations). Finally, you may need to provide an overall summary of the data."
   ]
  },
  {
   "cell_type": "markdown",
   "id": "a61b32dc",
   "metadata": {},
   "source": [
    "<b>Summary:</b>\n",
    "\n",
    "The boxplot provides a visual representation of the distribution of ratings for different categories.\n",
    "The box represents the interquartile range (IQR) of the ratings within each category.\n",
    "The line inside the box represents the median rating for each category.\n"
   ]
  },
  {
   "cell_type": "markdown",
   "id": "e37a66b6",
   "metadata": {},
   "source": [
    " <b>Explanation:</b>\n",
    "\n",
    "The boxplot allows you to compare the distribution of ratings across different categories, helping identify variations in user ratings and potential outliers within each category. Whereas, by rating all categories are top rated except books, games and media. "
   ]
  },
  {
   "cell_type": "code",
   "execution_count": 40,
   "id": "8c14b0b2",
   "metadata": {},
   "outputs": [
    {
     "data": {
      "text/plain": [
       "Text(0, 0.5, 'Rating')"
      ]
     },
     "execution_count": 40,
     "metadata": {},
     "output_type": "execute_result"
    },
    {
     "data": {
      "image/png": "[encoded data removed]",
      "text/plain": [
       "<Figure size 432x288 with 1 Axes>"
      ]
     },
     "metadata": {
      "needs_background": "light"
     },
     "output_type": "display_data"
    }
   ],
   "source": [
    "# category-rating correlation\n",
    "clean_df.boxplot(\"rating\",by=\"category\")\n",
    "plt.xticks(rotation=90)\n",
    "plt.xlabel(\"Category\")\n",
    "plt.ylabel(\"Rating\")"
   ]
  },
  {
   "cell_type": "markdown",
   "id": "3f78b182",
   "metadata": {},
   "source": [
    "<b>Explanation:</b>\n",
    "\n",
    "The boxplot illustrates the distribution of ratings for different genders.\n",
    "The box represents the interquartile range (IQR) of ratings within each gender category.\n",
    "The line inside the box represents the median rating for each gender.\n",
    "\n",
    "\n",
    "<b>Summary:</b>\n",
    "\n",
    "The boxplot allows you to visually compare the distribution of ratings between different genders. "
   ]
  },
  {
   "cell_type": "code",
   "execution_count": 43,
   "id": "50e9512f",
   "metadata": {},
   "outputs": [
    {
     "data": {
      "text/plain": [
       "Text(0, 0.5, 'Rating')"
      ]
     },
     "execution_count": 43,
     "metadata": {},
     "output_type": "execute_result"
    },
    {
     "data": {
      "image/png": "[encoded data removed]",
      "text/plain": [
       "<Figure size 432x288 with 1 Axes>"
      ]
     },
     "metadata": {
      "needs_background": "light"
     },
     "output_type": "display_data"
    }
   ],
   "source": [
    "# gender_rating correlation\n",
    "df.boxplot(\"rating\",by=\"gender\")\n",
    "plt.xticks(rotation=90)\n",
    "plt.xlabel(\"Gender\")\n",
    "plt.ylabel(\"Rating\")"
   ]
  },
  {
   "cell_type": "markdown",
   "id": "b125b0b4",
   "metadata": {},
   "source": [
    "<b>Interpretation:</b>\n",
    "\n",
    "The boxplot visualizes the distribution of ratings based on the 'helpfulness' category.\n",
    "The box represents the interquartile range (IQR) of ratings within each 'helpfulness' category.\n",
    "The line inside the box represents the median rating for each 'helpfulness' category.\n",
    "\n",
    "<b>Summary:</b>\n",
    "\n",
    "The boxplot allows you to compare the distribution of ratings across different 'helpfulness' categories. It provides insights into the central tendency, spread, and potential outliers in ratings for each category of 'helpfulness'."
   ]
  },
  {
   "cell_type": "code",
   "execution_count": 48,
   "id": "3f453dd1",
   "metadata": {},
   "outputs": [
    {
     "data": {
      "text/plain": [
       "Text(0, 0.5, 'Rating')"
      ]
     },
     "execution_count": 48,
     "metadata": {},
     "output_type": "execute_result"
    },
    {
     "data": {
      "image/png": "[encoded data removed]",
      "text/plain": [
       "<Figure size 432x288 with 1 Axes>"
      ]
     },
     "metadata": {
      "needs_background": "light"
     },
     "output_type": "display_data"
    }
   ],
   "source": [
    "# helpfulness_rating correlation\n",
    "clean_df.boxplot(\"rating\",by=\"helpfulness\")\n",
    "plt.xticks(rotation=90)\n",
    "plt.xlabel(\"Gender\")\n",
    "plt.ylabel(\"Rating\")"
   ]
  },
  {
   "cell_type": "markdown",
   "id": "TxD3SLxRqndR",
   "metadata": {
    "id": "TxD3SLxRqndR"
   },
   "source": [
    "#### Q4. Detect and remove outliers\n",
    "\n",
    "We may define outlier users, reviews and items with three rules (if a record meets one of the rules, it is regarded as an outlier):\n",
    "\n",
    "1. reviews of which the helpfulness is no more than 2\n",
    "2. users who rate less than 7 items\n",
    "3. items that receives less than 11 ratings\n",
    "\n",
    "Please remove the corresponding records in the csv file that involves outlier users, reviews and items. You need to follow the order of rules to perform data cleaning operations. After that, __print the length of the data__."
   ]
  },
  {
   "cell_type": "code",
   "execution_count": 19,
   "id": "JaQJmew4qndR",
   "metadata": {
    "id": "JaQJmew4qndR"
   },
   "outputs": [
    {
     "name": "stdout",
     "output_type": "stream",
     "text": [
      "the length of the data after removing outlier helpfulness  13643\n"
     ]
    }
   ],
   "source": [
    "# your code and solutions\n",
    "remove_outlier_df=clean_df.drop(clean_df.index[(clean_df['helpfulness'] <=2 )])\n",
    "print(\"the length of the data after removing outlier helpfulness \",len(remove_outlier_df))"
   ]
  },
  {
   "cell_type": "code",
   "execution_count": 21,
   "id": "057ae3ca",
   "metadata": {},
   "outputs": [
    {
     "name": "stdout",
     "output_type": "stream",
     "text": [
      "the number of user after removing outlier helpfulness  6535\n"
     ]
    }
   ],
   "source": [
    "# your code and solutions\n",
    "group_user_df=remove_outlier_df.groupby(['userId'])['rating'].count().reset_index(name= 'count')\n",
    "print(\"the number of user after removing outlier helpfulness \",len(group_user_df))"
   ]
  },
  {
   "cell_type": "code",
   "execution_count": 22,
   "id": "6ecd1349",
   "metadata": {},
   "outputs": [
    {
     "data": {
      "text/html": [
       "<div>\n",
       "<style scoped>\n",
       "    .dataframe tbody tr th:only-of-type {\n",
       "        vertical-align: middle;\n",
       "    }\n",
       "\n",
       "    .dataframe tbody tr th {\n",
       "        vertical-align: top;\n",
       "    }\n",
       "\n",
       "    .dataframe thead th {\n",
       "        text-align: right;\n",
       "    }\n",
       "</style>\n",
       "<table border=\"1\" class=\"dataframe\">\n",
       "  <thead>\n",
       "    <tr style=\"text-align: right;\">\n",
       "      <th></th>\n",
       "      <th>userId</th>\n",
       "      <th>count</th>\n",
       "    </tr>\n",
       "  </thead>\n",
       "  <tbody>\n",
       "    <tr>\n",
       "      <th>0</th>\n",
       "      <td>0</td>\n",
       "      <td>3</td>\n",
       "    </tr>\n",
       "    <tr>\n",
       "      <th>1</th>\n",
       "      <td>1</td>\n",
       "      <td>1</td>\n",
       "    </tr>\n",
       "    <tr>\n",
       "      <th>2</th>\n",
       "      <td>2</td>\n",
       "      <td>2</td>\n",
       "    </tr>\n",
       "    <tr>\n",
       "      <th>3</th>\n",
       "      <td>3</td>\n",
       "      <td>2</td>\n",
       "    </tr>\n",
       "    <tr>\n",
       "      <th>4</th>\n",
       "      <td>4</td>\n",
       "      <td>7</td>\n",
       "    </tr>\n",
       "  </tbody>\n",
       "</table>\n",
       "</div>"
      ],
      "text/plain": [
       "   userId  count\n",
       "0       0      3\n",
       "1       1      1\n",
       "2       2      2\n",
       "3       3      2\n",
       "4       4      7"
      ]
     },
     "execution_count": 22,
     "metadata": {},
     "output_type": "execute_result"
    }
   ],
   "source": [
    "group_user_df.head()"
   ]
  },
  {
   "cell_type": "code",
   "execution_count": 25,
   "id": "84453cef",
   "metadata": {},
   "outputs": [
    {
     "name": "stdout",
     "output_type": "stream",
     "text": [
      "267\n"
     ]
    }
   ],
   "source": [
    "# users who rate less than 7 items\n",
    "userIds=group_user_df[group_user_df['count'] >=7 ]['userId'].tolist()\n",
    "print(len(userIds))"
   ]
  },
  {
   "cell_type": "code",
   "execution_count": 26,
   "id": "13521584",
   "metadata": {},
   "outputs": [],
   "source": [
    "remove_outlier_df=remove_outlier_df[remove_outlier_df['userId'].isin(userIds)]"
   ]
  },
  {
   "cell_type": "code",
   "execution_count": 27,
   "id": "5ff18715",
   "metadata": {},
   "outputs": [
    {
     "name": "stdout",
     "output_type": "stream",
     "text": [
      "the length of data is:  2741\n"
     ]
    }
   ],
   "source": [
    "print(\"the length of data is: \",len(remove_outlier_df))"
   ]
  },
  {
   "cell_type": "code",
   "execution_count": 28,
   "id": "6efe03b6",
   "metadata": {},
   "outputs": [
    {
     "data": {
      "text/html": [
       "<div>\n",
       "<style scoped>\n",
       "    .dataframe tbody tr th:only-of-type {\n",
       "        vertical-align: middle;\n",
       "    }\n",
       "\n",
       "    .dataframe tbody tr th {\n",
       "        vertical-align: top;\n",
       "    }\n",
       "\n",
       "    .dataframe thead th {\n",
       "        text-align: right;\n",
       "    }\n",
       "</style>\n",
       "<table border=\"1\" class=\"dataframe\">\n",
       "  <thead>\n",
       "    <tr style=\"text-align: right;\">\n",
       "      <th></th>\n",
       "      <th>item</th>\n",
       "      <th>count</th>\n",
       "    </tr>\n",
       "  </thead>\n",
       "  <tbody>\n",
       "    <tr>\n",
       "      <th>0</th>\n",
       "      <td>AOL (America Online)</td>\n",
       "      <td>93</td>\n",
       "    </tr>\n",
       "    <tr>\n",
       "      <th>1</th>\n",
       "      <td>All Advantage</td>\n",
       "      <td>72</td>\n",
       "    </tr>\n",
       "    <tr>\n",
       "      <th>2</th>\n",
       "      <td>Alta Vista (by 1stUp)</td>\n",
       "      <td>10</td>\n",
       "    </tr>\n",
       "    <tr>\n",
       "      <th>3</th>\n",
       "      <td>Amazon.com</td>\n",
       "      <td>18</td>\n",
       "    </tr>\n",
       "    <tr>\n",
       "      <th>4</th>\n",
       "      <td>American Airlines</td>\n",
       "      <td>19</td>\n",
       "    </tr>\n",
       "  </tbody>\n",
       "</table>\n",
       "</div>"
      ],
      "text/plain": [
       "                    item  count\n",
       "0   AOL (America Online)     93\n",
       "1          All Advantage     72\n",
       "2  Alta Vista (by 1stUp)     10\n",
       "3             Amazon.com     18\n",
       "4      American Airlines     19"
      ]
     },
     "execution_count": 28,
     "metadata": {},
     "output_type": "execute_result"
    }
   ],
   "source": [
    "group_item_df=remove_outlier_df.groupby(['item'])['rating'].count().reset_index(name= 'count')\n",
    "group_item_df.head()"
   ]
  },
  {
   "cell_type": "code",
   "execution_count": 30,
   "id": "da5c1761",
   "metadata": {},
   "outputs": [
    {
     "name": "stdout",
     "output_type": "stream",
     "text": [
      "82\n"
     ]
    }
   ],
   "source": [
    "items=group_item_df[group_item_df['count'] >= 11]['item'].tolist()\n",
    "print(len(items))"
   ]
  },
  {
   "cell_type": "code",
   "execution_count": 31,
   "id": "5e7bed8f",
   "metadata": {},
   "outputs": [
    {
     "data": {
      "text/plain": [
       "2685"
      ]
     },
     "execution_count": 31,
     "metadata": {},
     "output_type": "execute_result"
    }
   ],
   "source": [
    "remove_outlier_df=remove_outlier_df[remove_outlier_df['item'].isin(items)]\n",
    "len(remove_outlier_df)"
   ]
  },
  {
   "cell_type": "code",
   "execution_count": 32,
   "id": "4f08002e",
   "metadata": {},
   "outputs": [],
   "source": [
    "remove_outlier_df.to_csv('A combined dataset from ecommerce dataset_cleaned_data.csv',index=False)"
   ]
  }
 ],
 "metadata": {
  "colab": {
   "provenance": []
  },
  "kernelspec": {
   "display_name": "Python 3 (ipykernel)",
   "language": "python",
   "name": "python3"
  },
  "language_info": {
   "codemirror_mode": {
    "name": "ipython",
    "version": 3
   },
   "file_extension": ".py",
   "mimetype": "text/x-python",
   "name": "python",
   "nbconvert_exporter": "python",
   "pygments_lexer": "ipython3",
   "version": "3.9.7"
  }
 },
 "nbformat": 4,
 "nbformat_minor": 5
}
